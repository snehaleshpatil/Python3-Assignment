{
 "cells": [
  {
   "cell_type": "markdown",
   "metadata": {},
   "source": [
    "# Assignment 3 Python:"
   ]
  },
  {
   "cell_type": "markdown",
   "metadata": {
    "collapsed": true
   },
   "source": [
    "# 1.1 Write a Python Program to implement your own myreduce() function which works exactly like Python's built-in function reduce()\n"
   ]
  },
  {
   "cell_type": "code",
   "execution_count": 16,
   "metadata": {},
   "outputs": [
    {
     "name": "stdout",
     "output_type": "stream",
     "text": [
      "Function Selection: Enter 1 for sum OR 2 for multiply >> 1\n",
      "Input list parameter to myreduce function >>  [1, 2, 3, 4, 5]\n",
      "myreduce function output:  15\n"
     ]
    }
   ],
   "source": [
    "def myreduce(funcnumber,my_lst):\n",
    "    if funcnumber == 1:\n",
    "        total = 0\n",
    "        for i in my_lst:\n",
    "            total = mysum(total,i)\n",
    "        return total\n",
    "    elif funcnumber== 2:\n",
    "        product = 1\n",
    "        for i in my_lst:\n",
    "            product = mymultiply(product,i)\n",
    "        return product\n",
    "    else:\n",
    "        print (\"Sorry. Wrong function selection!\")\n",
    "\n",
    "def mysum(a,b):\n",
    "    return a+b\n",
    "\n",
    "def mymultiply(a,b):\n",
    "    return a*b\n",
    "\n",
    "#Main Code     \n",
    "input_lst = [1,2,3,4,5]\n",
    "myfunc = int(input (\"Function Selection: Enter 1 for sum OR 2 for multiply >> \"))\n",
    "print (\"Input list parameter to myreduce function >> \", input_lst)\n",
    "print (\"myreduce function output: \", myreduce(myfunc, input_lst))\n"
   ]
  },
  {
   "cell_type": "markdown",
   "metadata": {},
   "source": [
    "# 1.2 Write a Python program to implement your own myfilter() function which works exactly like Python's built-in function filter()"
   ]
  },
  {
   "cell_type": "code",
   "execution_count": 17,
   "metadata": {},
   "outputs": [
    {
     "name": "stdout",
     "output_type": "stream",
     "text": [
      "Filter Function Selection: Enter 1 for MediumHeight OR 2 for TallHeight >> 2\n",
      "Input list parameter to myreduce function >>  [4.0, 5.5, 6.0, 7, 4.3, 3.3, 4.6, 5.8]\n",
      "myfilter function output:  [6.0, 7]\n"
     ]
    }
   ],
   "source": [
    "def myfilter(funcnumber,my_lst):\n",
    "    if funcnumber == 1:\n",
    "        #Height between 5.0 to 6.0 ft\n",
    "        medheight_lst = []\n",
    "        for i in my_lst:\n",
    "            if medheight(i) == True: \n",
    "                medheight_lst.append(i)\n",
    "        return medheight_lst\n",
    "    elif funcnumber == 2:\n",
    "         #Height more than 6.0 ft\n",
    "        tallheight_lst = []\n",
    "        for i in my_lst:\n",
    "            if tallheight(i) == True: \n",
    "                tallheight_lst.append(i)\n",
    "        return tallheight_lst\n",
    "    else:\n",
    "        print (\"Sorry. Wrong selection!\")\n",
    "\n",
    "def medheight(a):\n",
    "    if a >= 5 and a < 6.0 : return True\n",
    "\n",
    "def tallheight(a):\n",
    "    if a >= 6.0 : return True\n",
    "\n",
    "#Main Code : Filter Height values from list\n",
    "Height_lst = [4.0,5.5,6.0,7,4.3,3.3,4.6,5.8]\n",
    "myfunc = int(input (\"Filter Function Selection: Enter 1 for MediumHeight OR 2 for TallHeight >> \"))\n",
    "print (\"Input list parameter to myreduce function >> \", Height_lst)\n",
    "print (\"myfilter function output: \", myfilter(myfunc, Height_lst))\n"
   ]
  },
  {
   "cell_type": "markdown",
   "metadata": {},
   "source": [
    "# 2 Implement List comprehensions to produce the following lists. Write List comprehensions to produce the following Lists\n",
    "\n",
    "['A', 'C', 'A', 'D', 'G', 'I', ’L’, ‘ D’]\n",
    "\n",
    "['x', 'xx', 'xxx', 'xxxx', 'y', 'yy', 'yyy', 'yyyy', 'z', 'zz', 'zzz', 'zzzz']\n",
    "\n",
    "['x', 'y', 'z', 'xx', 'yy', 'zz', 'xxx', 'yyy', 'zzz', 'xxxx', 'yyyy', 'zzzz']\n",
    "\n",
    "[[2], [3], [4], [3], [4], [5], [4], [5], [6]]\n",
    "\n",
    "[[2, 3, 4, 5], [3, 4, 5, 6], [4, 5, 6, 7], [5, 6, 7, 8]]\n",
    "\n",
    "[(1, 1), (2, 1), (3, 1), (1, 2), (2, 2), (3, 2), (1, 3), (2, 3), (3, 3)]\n"
   ]
  },
  {
   "cell_type": "code",
   "execution_count": 3,
   "metadata": {},
   "outputs": [
    {
     "data": {
      "text/plain": [
       "['A', 'C', 'A', 'D', 'G', 'I', 'L', 'D']"
      ]
     },
     "execution_count": 3,
     "metadata": {},
     "output_type": "execute_result"
    }
   ],
   "source": [
    "[x for x in 'ACADGILD']"
   ]
  },
  {
   "cell_type": "code",
   "execution_count": 6,
   "metadata": {},
   "outputs": [
    {
     "data": {
      "text/plain": [
       "['x', 'xx', 'xxx', 'xxxx', 'y', 'yy', 'yyy', 'yyyy', 'z', 'zz', 'zzz', 'zzzz']"
      ]
     },
     "execution_count": 6,
     "metadata": {},
     "output_type": "execute_result"
    }
   ],
   "source": [
    "[j*(i+1)for j in 'xyz' for i in range (4)]"
   ]
  },
  {
   "cell_type": "code",
   "execution_count": 7,
   "metadata": {},
   "outputs": [
    {
     "data": {
      "text/plain": [
       "['x', 'y', 'z', 'xx', 'yy', 'zz', 'xxx', 'yyy', 'zzz', 'xxxx', 'yyyy', 'zzzz']"
      ]
     },
     "execution_count": 7,
     "metadata": {},
     "output_type": "execute_result"
    }
   ],
   "source": [
    "[j*(i+1) for i in range (4)for j in 'xyz']"
   ]
  },
  {
   "cell_type": "code",
   "execution_count": 15,
   "metadata": {},
   "outputs": [
    {
     "data": {
      "text/plain": [
       "[[2], [3], [4], [3], [4], [5], [4], [5], [6]]"
      ]
     },
     "execution_count": 15,
     "metadata": {},
     "output_type": "execute_result"
    }
   ],
   "source": [
    "[[2+i+j] for i in range(3)for j in range(3)]"
   ]
  },
  {
   "cell_type": "code",
   "execution_count": 11,
   "metadata": {},
   "outputs": [
    {
     "data": {
      "text/plain": [
       "[[2, 3, 4, 5], [3, 4, 5, 6], [4, 5, 6, 7], [5, 6, 7, 8]]"
      ]
     },
     "execution_count": 11,
     "metadata": {},
     "output_type": "execute_result"
    }
   ],
   "source": [
    "[[2+i,3+i, 4+i, 5+i] for i in range(4)]"
   ]
  },
  {
   "cell_type": "code",
   "execution_count": 13,
   "metadata": {},
   "outputs": [
    {
     "data": {
      "text/plain": [
       "[(1, 1), (2, 1), (3, 1), (1, 2), (2, 2), (3, 2), (1, 3), (2, 3), (3, 3)]"
      ]
     },
     "execution_count": 13,
     "metadata": {},
     "output_type": "execute_result"
    }
   ],
   "source": [
    "[(i+1,j+1) for j in range(3) for i in range(3)]"
   ]
  },
  {
   "cell_type": "markdown",
   "metadata": {},
   "source": [
    "# 3 Implement a function longestWord() that takes a list of words and returns the longest one."
   ]
  },
  {
   "cell_type": "code",
   "execution_count": 29,
   "metadata": {},
   "outputs": [
    {
     "name": "stdout",
     "output_type": "stream",
     "text": [
      "Number of longest words found with same length :  3\n",
      "Longest Words :  ['Three', 'Seven', 'Eight']\n"
     ]
    }
   ],
   "source": [
    "def longestword(word_lst):\n",
    "    longest_word = ''\n",
    "    longest_word_list=[]\n",
    "    for i in word_lst:\n",
    "        if len(i) > len(longest_word):\n",
    "            longest_word = i\n",
    "            longest_word_list=[]\n",
    "            longest_word_list.append (i)\n",
    "        elif len(i) == len(longest_word):\n",
    "            longest_word = i\n",
    "            longest_word_list.append (i)  \n",
    "            \n",
    "    return longest_word_list\n",
    "\n",
    "#Main Program\n",
    "ip_word_lst = ['One', 'Two', 'Three', 'Four', 'Five', 'Six', 'Seven', 'Eight', 'Nine', 'Ten']\n",
    "output_lst = longestword(ip_word_lst)\n",
    "print( \"Number of longest words found with same length : \", len(output_lst))\n",
    "print (\"Longest Words : \", output_lst)\n"
   ]
  },
  {
   "cell_type": "code",
   "execution_count": null,
   "metadata": {
    "collapsed": true
   },
   "outputs": [],
   "source": []
  },
  {
   "cell_type": "code",
   "execution_count": null,
   "metadata": {
    "collapsed": true
   },
   "outputs": [],
   "source": []
  }
 ],
 "metadata": {
  "kernelspec": {
   "display_name": "Python 3",
   "language": "python",
   "name": "python3"
  },
  "language_info": {
   "codemirror_mode": {
    "name": "ipython",
    "version": 3
   },
   "file_extension": ".py",
   "mimetype": "text/x-python",
   "name": "python",
   "nbconvert_exporter": "python",
   "pygments_lexer": "ipython3",
   "version": "3.6.3"
  }
 },
 "nbformat": 4,
 "nbformat_minor": 2
}
